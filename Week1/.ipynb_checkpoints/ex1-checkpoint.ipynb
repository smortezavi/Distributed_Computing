{
 "cells": [
  {
   "cell_type": "code",
   "execution_count": 2,
   "metadata": {
    "collapsed": true
   },
   "outputs": [],
   "source": [
    "from pyspark import SparkContext\n",
    "sc = SparkContext.getOrCreate()"
   ]
  },
  {
   "cell_type": "code",
   "execution_count": 3,
   "metadata": {},
   "outputs": [
    {
     "data": {
      "text/html": [
       "\n",
       "        <div>\n",
       "            <p><b>SparkContext</b></p>\n",
       "\n",
       "            <p><a href=\"http://10.1.19.165:4041\">Spark UI</a></p>\n",
       "\n",
       "            <dl>\n",
       "              <dt>Version</dt>\n",
       "                <dd><code>v2.2.0</code></dd>\n",
       "              <dt>Master</dt>\n",
       "                <dd><code>local[*]</code></dd>\n",
       "              <dt>AppName</dt>\n",
       "                <dd><code>PySparkShell</code></dd>\n",
       "            </dl>\n",
       "        </div>\n",
       "        "
      ],
      "text/plain": [
       "<SparkContext master=local[*] appName=PySparkShell>"
      ]
     },
     "execution_count": 3,
     "metadata": {},
     "output_type": "execute_result"
    }
   ],
   "source": [
    "sc"
   ]
  },
  {
   "cell_type": "code",
   "execution_count": 4,
   "metadata": {
    "collapsed": true
   },
   "outputs": [],
   "source": [
    "lines = sc.textFile(\"../Data/README.md\")"
   ]
  },
  {
   "cell_type": "code",
   "execution_count": 5,
   "metadata": {},
   "outputs": [
    {
     "data": {
      "text/plain": [
       "[[u'# Apache Spark',\n",
       "  u'',\n",
       "  u'Spark is a fast and general cluster computing system for Big Data. It provides',\n",
       "  u'high-level APIs in Scala, Java, Python, and R, and an optimized engine that',\n",
       "  u'supports general computation graphs for data analysis. It also supports a',\n",
       "  u'rich set of higher-level tools including Spark SQL for SQL and DataFrames,',\n",
       "  u'MLlib for machine learning, GraphX for graph processing,',\n",
       "  u'and Spark Streaming for stream processing.',\n",
       "  u'',\n",
       "  u'<http://spark.apache.org/>',\n",
       "  u'',\n",
       "  u'',\n",
       "  u'## Online Documentation',\n",
       "  u'',\n",
       "  u'You can find the latest Spark documentation, including a programming',\n",
       "  u'guide, on the [project web page](http://spark.apache.org/documentation.html)',\n",
       "  u'and [project wiki](https://cwiki.apache.org/confluence/display/SPARK).',\n",
       "  u'This README file only contains basic setup instructions.',\n",
       "  u'',\n",
       "  u'## Building Spark',\n",
       "  u'',\n",
       "  u'Spark is built using [Apache Maven](http://maven.apache.org/).',\n",
       "  u'To build Spark and its example programs, run:',\n",
       "  u'',\n",
       "  u'    build/mvn -DskipTests clean package',\n",
       "  u'',\n",
       "  u'(You do not need to do this if you downloaded a pre-built package.)',\n",
       "  u'',\n",
       "  u'You can build Spark using more than one thread by using the -T option with Maven, see [\"Parallel builds in Maven 3\"](https://cwiki.apache.org/confluence/display/MAVEN/Parallel+builds+in+Maven+3).',\n",
       "  u'More detailed documentation is available from the project site, at',\n",
       "  u'[\"Building Spark\"](http://spark.apache.org/docs/latest/building-spark.html).',\n",
       "  u'For developing Spark using an IDE, see [Eclipse](https://cwiki.apache.org/confluence/display/SPARK/Useful+Developer+Tools#UsefulDeveloperTools-Eclipse)',\n",
       "  u'and [IntelliJ](https://cwiki.apache.org/confluence/display/SPARK/Useful+Developer+Tools#UsefulDeveloperTools-IntelliJ).',\n",
       "  u'',\n",
       "  u'## Interactive Scala Shell',\n",
       "  u'',\n",
       "  u'The easiest way to start using Spark is through the Scala shell:',\n",
       "  u'',\n",
       "  u'    ./bin/spark-shell',\n",
       "  u'',\n",
       "  u'Try the following command, which should return 1000:',\n",
       "  u'',\n",
       "  u'    scala> sc.parallelize(1 to 1000).count()',\n",
       "  u'',\n",
       "  u'## Interactive Python Shell',\n",
       "  u'',\n",
       "  u'Alternatively, if you prefer Python, you can use the Python shell:'],\n",
       " [u'',\n",
       "  u'    ./bin/pyspark',\n",
       "  u'',\n",
       "  u'And run the following command, which should also return 1000:',\n",
       "  u'',\n",
       "  u'    >>> sc.parallelize(range(1000)).count()',\n",
       "  u'',\n",
       "  u'## Example Programs',\n",
       "  u'',\n",
       "  u'Spark also comes with several sample programs in the `examples` directory.',\n",
       "  u'To run one of them, use `./bin/run-example <class> [params]`. For example:',\n",
       "  u'',\n",
       "  u'    ./bin/run-example SparkPi',\n",
       "  u'',\n",
       "  u'will run the Pi example locally.',\n",
       "  u'',\n",
       "  u'You can set the MASTER environment variable when running examples to submit',\n",
       "  u'examples to a cluster. This can be a mesos:// or spark:// URL,',\n",
       "  u'\"yarn\" to run on YARN, and \"local\" to run',\n",
       "  u'locally with one thread, or \"local[N]\" to run locally with N threads. You',\n",
       "  u'can also use an abbreviated class name if the class is in the `examples`',\n",
       "  u'package. For instance:',\n",
       "  u'',\n",
       "  u'    MASTER=spark://host:7077 ./bin/run-example SparkPi',\n",
       "  u'',\n",
       "  u'Many of the example programs print usage help if no params are given.',\n",
       "  u'',\n",
       "  u'## Running Tests',\n",
       "  u'',\n",
       "  u'Testing first requires [building Spark](#building-spark). Once Spark is built, tests',\n",
       "  u'can be run using:',\n",
       "  u'',\n",
       "  u'    ./dev/run-tests',\n",
       "  u'',\n",
       "  u'Please see the guidance on how to',\n",
       "  u'[run tests for a module, or individual tests](https://cwiki.apache.org/confluence/display/SPARK/Useful+Developer+Tools).',\n",
       "  u'',\n",
       "  u'## A Note About Hadoop Versions',\n",
       "  u'',\n",
       "  u'Spark uses the Hadoop core library to talk to HDFS and other Hadoop-supported',\n",
       "  u'storage systems. Because the protocols have changed in different versions of',\n",
       "  u'Hadoop, you must build Spark against the same version that your cluster runs.',\n",
       "  u'',\n",
       "  u'Please refer to the build documentation at',\n",
       "  u'[\"Specifying the Hadoop Version\"](http://spark.apache.org/docs/latest/building-spark.html#specifying-the-hadoop-version)',\n",
       "  u'for detailed guidance on building for a particular distribution of Hadoop, including',\n",
       "  u'building for particular Hive and Hive Thriftserver distributions.',\n",
       "  u'',\n",
       "  u'## Configuration',\n",
       "  u'',\n",
       "  u'Please refer to the [Configuration Guide](http://spark.apache.org/docs/latest/configuration.html)',\n",
       "  u'in the online documentation for an overview on how to configure Spark.']]"
      ]
     },
     "execution_count": 5,
     "metadata": {},
     "output_type": "execute_result"
    }
   ],
   "source": [
    "lines.glom().collect()"
   ]
  },
  {
   "cell_type": "markdown",
   "metadata": {},
   "source": [
    "parallelize data and see how they are distributed"
   ]
  },
  {
   "cell_type": "code",
   "execution_count": 13,
   "metadata": {
    "collapsed": true
   },
   "outputs": [],
   "source": [
    "lines = sc.parallelize([\"spark\",\"spark is fun!\",\"1\",\"2\",\"3\",\"4\",\"5\",\"6\"])"
   ]
  },
  {
   "cell_type": "code",
   "execution_count": 14,
   "metadata": {},
   "outputs": [
    {
     "data": {
      "text/plain": [
       "4"
      ]
     },
     "execution_count": 14,
     "metadata": {},
     "output_type": "execute_result"
    }
   ],
   "source": [
    "lines.getNumPartitions()"
   ]
  },
  {
   "cell_type": "code",
   "execution_count": 15,
   "metadata": {},
   "outputs": [
    {
     "data": {
      "text/plain": [
       "[['spark', 'spark is fun!'], ['1', '2'], ['3', '4'], ['5', '6']]"
      ]
     },
     "execution_count": 15,
     "metadata": {},
     "output_type": "execute_result"
    }
   ],
   "source": [
    "lines.glom().collect()"
   ]
  },
  {
   "cell_type": "code",
   "execution_count": 7,
   "metadata": {},
   "outputs": [
    {
     "data": {
      "text/plain": [
       "['spark', 'spark is fun!']"
      ]
     },
     "execution_count": 7,
     "metadata": {},
     "output_type": "execute_result"
    }
   ],
   "source": [
    "lines.collect()"
   ]
  },
  {
   "cell_type": "code",
   "execution_count": null,
   "metadata": {
    "collapsed": true
   },
   "outputs": [],
   "source": []
  }
 ],
 "metadata": {
  "anaconda-cloud": {},
  "kernelspec": {
   "display_name": "Python 2",
   "language": "python",
   "name": "python2"
  },
  "language_info": {
   "codemirror_mode": {
    "name": "ipython",
    "version": 2
   },
   "file_extension": ".py",
   "mimetype": "text/x-python",
   "name": "python",
   "nbconvert_exporter": "python",
   "pygments_lexer": "ipython2",
   "version": "2.7.14"
  }
 },
 "nbformat": 4,
 "nbformat_minor": 1
}
