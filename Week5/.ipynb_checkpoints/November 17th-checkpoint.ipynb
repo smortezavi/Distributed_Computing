{
 "cells": [
  {
   "cell_type": "markdown",
   "metadata": {},
   "source": [
    "## Final Exam\n",
    "\n",
    "December 11th, 10am\n",
    "(room 154, 155, 156)\n",
    "\n",
    "Scope: Week1 - Week 7\n",
    "Grading\n",
    "Multiple choices 15pt\n",
    "coding           10pt\n",
    "\n",
    ".Memory-only-best :\n",
    ".Disk : only if recomputation is expensive and can not fit in memory.\n",
    ".Heap : Stored  outsdie of th"
   ]
  },
  {
   "cell_type": "code",
   "execution_count": null,
   "metadata": {
    "collapsed": true
   },
   "outputs": [],
   "source": []
  }
 ],
 "metadata": {
  "kernelspec": {
   "display_name": "Python 2",
   "language": "python",
   "name": "python2"
  },
  "language_info": {
   "codemirror_mode": {
    "name": "ipython",
    "version": 2
   },
   "file_extension": ".py",
   "mimetype": "text/x-python",
   "name": "python",
   "nbconvert_exporter": "python",
   "pygments_lexer": "ipython2",
   "version": "2.7.14"
  }
 },
 "nbformat": 4,
 "nbformat_minor": 2
}
