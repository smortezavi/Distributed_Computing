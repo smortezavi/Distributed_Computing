{
 "cells": [
  {
   "cell_type": "markdown",
   "metadata": {},
   "source": [
    "## Final Exam\n",
    "\n",
    "December 11th, 10am\n",
    "(room 154, 155, 156)\n",
    "\n",
    "Scope: Week1 - Week 7\n",
    "Grading\n",
    "Multiple choices 15pt\n",
    "coding           10pt\n",
    "\n",
    ".Memory-only-best :\n",
    ".Disk : only if recomputation is expensive and can not fit in memory.\n",
    ".Heap : Stored  outsdie of the spark executor in an external system such as Tachyon.\n",
    ".Use when there is memory issue /noisy cluster\n",
    ".serialization- when job is too big to fit in memory. slower.\n",
    ".Replication- faster fault recovery cost more space/speed. Useful when bad connection happens to your cluster or if you have live web application.\n",
    "\n",
    "Client:\n",
    ".start driver\n",
    ".config\n",
    "\n",
    "Driver\n",
    ". Orchestrate executors\n",
    ". Send tasks to executors\n",
    ". recieve results from executors.\n",
    "\n",
    "Executor\n",
    ".execute tasks\n",
    ".store data\n",
    ".return results\n",
    "\n",
    "Driver submits a job to driver and master accepts app and request resources.\n",
    "\n",
    "Master will talk to cluster management sereve resources which then talks to worker to launch executors. \n",
    "\n",
    "Master splits the resources\n",
    "\n",
    "Driver to split the jobs\n"
   ]
  },
  {
   "cell_type": "code",
   "execution_count": null,
   "metadata": {
    "collapsed": true
   },
   "outputs": [],
   "source": []
  }
 ],
 "metadata": {
  "kernelspec": {
   "display_name": "Python 2",
   "language": "python",
   "name": "python2"
  },
  "language_info": {
   "codemirror_mode": {
    "name": "ipython",
    "version": 2
   },
   "file_extension": ".py",
   "mimetype": "text/x-python",
   "name": "python",
   "nbconvert_exporter": "python",
   "pygments_lexer": "ipython2",
   "version": "2.7.14"
  }
 },
 "nbformat": 4,
 "nbformat_minor": 2
}
