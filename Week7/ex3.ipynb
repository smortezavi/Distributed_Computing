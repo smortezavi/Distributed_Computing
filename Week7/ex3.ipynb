{
 "cells": [
  {
   "cell_type": "code",
   "execution_count": 6,
   "metadata": {
    "collapsed": true
   },
   "outputs": [],
   "source": [
    "from pyspark import SparkContext\n",
    "sc = SparkContext.getOrCreate()"
   ]
  },
  {
   "cell_type": "code",
   "execution_count": 7,
   "metadata": {
    "collapsed": true
   },
   "outputs": [],
   "source": [
    "import json"
   ]
  },
  {
   "cell_type": "code",
   "execution_count": 8,
   "metadata": {
    "collapsed": false
   },
   "outputs": [],
   "source": [
    "#Load Data\n",
    "json_input = sc.textFile(\"../Data/example.json\")\n",
    "json_data = json_input.map(lambda x:json.loads(x))"
   ]
  },
  {
   "cell_type": "code",
   "execution_count": 9,
   "metadata": {
    "collapsed": false
   },
   "outputs": [
    {
     "data": {
      "text/plain": [
       "[u'{\"ID\":\"id_1\",\"array\":[1,2,3],\"dict\": {\"key\": \"value1\"}}',\n",
       " u'{\"ID\":\"id_2\",\"array\":[2,4,6],\"dict\": {\"key\": \"value2\"}}',\n",
       " u'{\"ID\":\"id_3\",\"array\":[3,6,9],\"dict\": {\"key\": \"value3\", \"extra_key\": \"extra_value3\"}}']"
      ]
     },
     "execution_count": 9,
     "metadata": {},
     "output_type": "execute_result"
    }
   ],
   "source": [
    "json_input.collect() #text file"
   ]
  },
  {
   "cell_type": "code",
   "execution_count": 10,
   "metadata": {
    "collapsed": false
   },
   "outputs": [
    {
     "data": {
      "text/plain": [
       "[{u'ID': u'id_1', u'array': [1, 2, 3], u'dict': {u'key': u'value1'}},\n",
       " {u'ID': u'id_2', u'array': [2, 4, 6], u'dict': {u'key': u'value2'}},\n",
       " {u'ID': u'id_3',\n",
       "  u'array': [3, 6, 9],\n",
       "  u'dict': {u'extra_key': u'extra_value3', u'key': u'value3'}}]"
      ]
     },
     "execution_count": 10,
     "metadata": {},
     "output_type": "execute_result"
    }
   ],
   "source": [
    "json_data.collect() #json"
   ]
  },
  {
   "cell_type": "code",
   "execution_count": 11,
   "metadata": {
    "collapsed": false
   },
   "outputs": [],
   "source": [
    "json_data_with_3 = json_data.filter(lambda x: 3 in x['array'] )\n",
    "json_data_with_3.map(lambda x : json.dumps(x)).saveAsTextFile('json_data_with_3')"
   ]
  },
  {
   "cell_type": "code",
   "execution_count": null,
   "metadata": {
    "collapsed": true
   },
   "outputs": [],
   "source": []
  }
 ],
 "metadata": {
  "anaconda-cloud": {},
  "kernelspec": {
   "display_name": "Python [Root]",
   "language": "python",
   "name": "Python [Root]"
  },
  "language_info": {
   "codemirror_mode": {
    "name": "ipython",
    "version": 2
   },
   "file_extension": ".py",
   "mimetype": "text/x-python",
   "name": "python",
   "nbconvert_exporter": "python",
   "pygments_lexer": "ipython2",
   "version": "2.7.12"
  }
 },
 "nbformat": 4,
 "nbformat_minor": 0
}
