{
 "cells": [
  {
   "cell_type": "code",
   "execution_count": 7,
   "metadata": {
    "collapsed": true
   },
   "outputs": [],
   "source": [
    "from pyspark import SparkContext\n",
    "sc = SparkContext.getOrCreate()"
   ]
  },
  {
   "cell_type": "code",
   "execution_count": 8,
   "metadata": {
    "collapsed": false
   },
   "outputs": [],
   "source": [
    "import csv\n",
    "import StringIO"
   ]
  },
  {
   "cell_type": "code",
   "execution_count": 9,
   "metadata": {
    "collapsed": false
   },
   "outputs": [],
   "source": [
    "input = sc.textFile(\"../Data/supervisor_sf.csv\")"
   ]
  },
  {
   "cell_type": "code",
   "execution_count": 71,
   "metadata": {
    "collapsed": false
   },
   "outputs": [],
   "source": [
    "# csv.DictReader : https://docs.python.org/2/library/csv.html\n",
    "# As DictReader() is used to read a file obj (string buffer), convert line using StringIO.StringIO to convert a string to a string buffer. \n",
    "# more about StringIO : https://docs.python.org/2/library/stringio.html\n",
    "# If the \"fieldnames\" parameter is omitted, the values in the first row of the csvfile will be used as the fieldnames.\n",
    "# Use .next() to get the next item. (Iterator)\n",
    "def csvLoader(line):\n",
    "    input = StringIO.StringIO(line)\n",
    "    reader = csv.DictReader(input, fieldnames=[\"Zip\",\"Supervisor\"]) \n",
    "    return reader.next() "
   ]
  },
  {
   "cell_type": "code",
   "execution_count": 73,
   "metadata": {
    "collapsed": false
   },
   "outputs": [],
   "source": [
    "csv_data = input.map(csvLoader)"
   ]
  },
  {
   "cell_type": "code",
   "execution_count": 76,
   "metadata": {
    "collapsed": false
   },
   "outputs": [
    {
     "data": {
      "text/plain": [
       "[{'Supervisor': '8', 'Zip': '94102'},\n",
       " {'Supervisor': '6', 'Zip': '94102'},\n",
       " {'Supervisor': '3', 'Zip': '94102'},\n",
       " {'Supervisor': '5', 'Zip': '94102'},\n",
       " {'Supervisor': '8', 'Zip': '94103'}]"
      ]
     },
     "execution_count": 76,
     "metadata": {},
     "output_type": "execute_result"
    }
   ],
   "source": [
    "csv_data.take(5)"
   ]
  },
  {
   "cell_type": "code",
   "execution_count": 75,
   "metadata": {
    "collapsed": false
   },
   "outputs": [],
   "source": [
    "sf_supervisor = csv_data.filter(lambda x :  (x['Zip']).startswith('94'))"
   ]
  },
  {
   "cell_type": "code",
   "execution_count": null,
   "metadata": {
    "collapsed": false
   },
   "outputs": [],
   "source": [
    "sf_supervisor.collect()"
   ]
  },
  {
   "cell_type": "code",
   "execution_count": 124,
   "metadata": {
    "collapsed": false
   },
   "outputs": [],
   "source": [
    "# csvWriter : Save in a format of \"Supervisor, Zip\".\n",
    "# csv.DictWriter : https://docs.python.org/2/library/csv.html#csv.DictWriter\n",
    "# Values in the dictionary passed to .writerow() are written to \"output\".\n",
    "def csvWriter(rdd):\n",
    "    output = StringIO.StringIO() # start as an empty string buffer\n",
    "    writer = csv.DictWriter(output, fieldnames=[\"Supervisor\", \"Zip\"])\n",
    "    writer.writerow(rdd)\n",
    "    return output.getvalue().strip() # strip() : delete \\r and \\n"
   ]
  },
  {
   "cell_type": "code",
   "execution_count": 126,
   "metadata": {
    "collapsed": false
   },
   "outputs": [
    {
     "data": {
      "text/plain": [
       "['8,94102', '6,94102', '3,94102', '5,94102', '8,94103']"
      ]
     },
     "execution_count": 126,
     "metadata": {},
     "output_type": "execute_result"
    }
   ],
   "source": [
    "csv_data.map(csvWriter).take(5)"
   ]
  },
  {
   "cell_type": "code",
   "execution_count": 118,
   "metadata": {
    "collapsed": false
   },
   "outputs": [],
   "source": [
    "csv_data.map(csvWriter).saveAsTextFile(\"CSV_folder\")"
   ]
  },
  {
   "cell_type": "code",
   "execution_count": null,
   "metadata": {
    "collapsed": true
   },
   "outputs": [],
   "source": []
  }
 ],
 "metadata": {
  "anaconda-cloud": {},
  "kernelspec": {
   "display_name": "Python [Root]",
   "language": "python",
   "name": "Python [Root]"
  },
  "language_info": {
   "codemirror_mode": {
    "name": "ipython",
    "version": 2
   },
   "file_extension": ".py",
   "mimetype": "text/x-python",
   "name": "python",
   "nbconvert_exporter": "python",
   "pygments_lexer": "ipython2",
   "version": "2.7.12"
  }
 },
 "nbformat": 4,
 "nbformat_minor": 0
}
