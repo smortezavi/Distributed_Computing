{
 "cells": [
  {
   "cell_type": "code",
   "execution_count": 1,
   "metadata": {
    "collapsed": true
   },
   "outputs": [],
   "source": [
    "from pyspark import SparkContext\n",
    "sc = SparkContext.getOrCreate()"
   ]
  },
  {
   "cell_type": "code",
   "execution_count": 2,
   "metadata": {
    "collapsed": true
   },
   "outputs": [],
   "source": [
    "files = sc.wholeTextFiles(\"../Data\")"
   ]
  },
  {
   "cell_type": "code",
   "execution_count": 3,
   "metadata": {},
   "outputs": [
    {
     "name": "stdout",
     "output_type": "stream",
     "text": [
      "(u'file:/Users/dwoodbridge/Class/2017_MSAN694/Spark_Example/Data/example.json', u'{\"ID\":\"id_1\",\"array\":[1,2,3],\"dict\": {\"key\": \"value1\"}}\\n{\"ID\":\"id_2\",\"array\":[2,4,6],\"dict\": {\"key\": \"value2\"}}\\n{\"ID\":\"id_3\",\"array\":[3,6,9],\"dict\": {\"key\": \"value3\", \"extra_key\": \"extra_value3\"}}\\n')\n"
     ]
    }
   ],
   "source": [
    "for file in files.take(1):\n",
    "    print file"
   ]
  },
  {
   "cell_type": "code",
   "execution_count": 4,
   "metadata": {},
   "outputs": [
    {
     "data": {
      "text/plain": [
       "[u'file:/Users/dwoodbridge/Class/2017_MSAN694/Spark_Example/Data/example.json',\n",
       " u'file:/Users/dwoodbridge/Class/2017_MSAN694/Spark_Example/Data/example.json~',\n",
       " u'file:/Users/dwoodbridge/Class/2017_MSAN694/Spark_Example/Data/filtered_registered_business_sf.csv',\n",
       " u'file:/Users/dwoodbridge/Class/2017_MSAN694/Spark_Example/Data/ignatian_pedagogy',\n",
       " u'file:/Users/dwoodbridge/Class/2017_MSAN694/Spark_Example/Data/ratings_Books.csv',\n",
       " u'file:/Users/dwoodbridge/Class/2017_MSAN694/Spark_Example/Data/README.md',\n",
       " u'file:/Users/dwoodbridge/Class/2017_MSAN694/Spark_Example/Data/sensor_timeseries.csv',\n",
       " u'file:/Users/dwoodbridge/Class/2017_MSAN694/Spark_Example/Data/sensor_timeseries.csv~',\n",
       " u'file:/Users/dwoodbridge/Class/2017_MSAN694/Spark_Example/Data/sensor_type.csv',\n",
       " u'file:/Users/dwoodbridge/Class/2017_MSAN694/Spark_Example/Data/supervisor_sf.csv',\n",
       " u'file:/Users/dwoodbridge/Class/2017_MSAN694/Spark_Example/Data/USF_Mission.txt',\n",
       " u'file:/Users/dwoodbridge/Class/2017_MSAN694/Spark_Example/Data/walmart_search_san_francisco.json']"
      ]
     },
     "execution_count": 4,
     "metadata": {},
     "output_type": "execute_result"
    }
   ],
   "source": [
    "files.keys().collect()"
   ]
  },
  {
   "cell_type": "code",
   "execution_count": 2,
   "metadata": {},
   "outputs": [
    {
     "name": "stdout",
     "output_type": "stream",
     "text": [
      "\u001b[34mData\u001b[m\u001b[m                              \u001b[34mWeek4\u001b[m\u001b[m\r\n",
      "Distributed_computing_notes.ipynb \u001b[34mWeek5\u001b[m\u001b[m\r\n",
      "\u001b[34mHW3\u001b[m\u001b[m                               \u001b[34mWeek7\u001b[m\u001b[m\r\n",
      "Quiz1_practice.ipynb              derby.log\r\n",
      "\u001b[34mWeek1\u001b[m\u001b[m                             \u001b[34mmetastore_db\u001b[m\u001b[m\r\n",
      "\u001b[34mWeek2\u001b[m\u001b[m                             \u001b[34mtest\u001b[m\u001b[m\r\n",
      "\u001b[34mWeek3\u001b[m\u001b[m\r\n"
     ]
    }
   ],
   "source": [
    "!pwd"
   ]
  },
  {
   "cell_type": "code",
   "execution_count": null,
   "metadata": {
    "collapsed": true
   },
   "outputs": [],
   "source": []
  }
 ],
 "metadata": {
  "anaconda-cloud": {},
  "kernelspec": {
   "display_name": "Python 2",
   "language": "python",
   "name": "python2"
  },
  "language_info": {
   "codemirror_mode": {
    "name": "ipython",
    "version": 2
   },
   "file_extension": ".py",
   "mimetype": "text/x-python",
   "name": "python",
   "nbconvert_exporter": "python",
   "pygments_lexer": "ipython2",
   "version": "2.7.14"
  }
 },
 "nbformat": 4,
 "nbformat_minor": 2
}
