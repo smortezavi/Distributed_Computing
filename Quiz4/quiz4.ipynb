{
 "cells": [
  {
   "cell_type": "code",
   "execution_count": 6,
   "metadata": {
    "collapsed": true
   },
   "outputs": [],
   "source": [
    "import csv\n",
    "import StringIO\n",
    "import re"
   ]
  },
  {
   "cell_type": "code",
   "execution_count": 2,
   "metadata": {
    "collapsed": true
   },
   "outputs": [],
   "source": [
    "input = sc.textFile('../Quiz4/movies.csv')"
   ]
  },
  {
   "cell_type": "code",
   "execution_count": 3,
   "metadata": {
    "collapsed": true
   },
   "outputs": [],
   "source": [
    "def csvLoader(line):\n",
    "    input = StringIO.StringIO(line)\n",
    "    reader = csv.DictReader(input,fieldnames=['movie_id', 'movie_name','movie_description'])\n",
    "    return reader.next()"
   ]
  },
  {
   "cell_type": "code",
   "execution_count": 4,
   "metadata": {
    "collapsed": true
   },
   "outputs": [],
   "source": [
    "csv_data = input.map(csvLoader)"
   ]
  },
  {
   "cell_type": "code",
   "execution_count": 74,
   "metadata": {},
   "outputs": [],
   "source": [
    "x = csv_data.map(lambda x:(x['movie_name'],x['movie_description']))\\\n",
    "    .mapValues(lambda x:x.split('('))\\\n",
    "    .map(lambda x:(x[0],x[1][0],x[1][1].split(' ')))\\\n",
    "    .map(lambda x:(x[0],x[2][0],x[1]))\\\n",
    "    .sortBy(lambda x:int(x[1]),ascending = False).collect()\n",
    "    \n"
   ]
  },
  {
   "cell_type": "code",
   "execution_count": 90,
   "metadata": {},
   "outputs": [
    {
     "name": "stdout",
     "output_type": "stream",
     "text": [
      "The Godfather: Part II (202 minutes) : The early life and career of Vito Corleone in 1920s New York City is portrayed, while his son, Michael, expands and tightens his grip on the family crime syndicate.\n",
      "The Godfather (175 minutes) : The aging patriarch of an organized crime dynasty transfers control of his clandestine empire to his reluctant son.\n",
      "The Departed (151 minutes) : An undercover cop and a mole in the police attempt to identify each other while infiltrating an Irish gang in South Boston.\n",
      "All Quiet on the Western Front (136 minutes) : A young soldier faces profound disillusionment in the soul-destroying horror of World War I.\n",
      "White Heat (114 minutes) : A psychopathic criminal with a mother complex makes a daring break from prison and leads his old gang in a chemical plant payroll heist. Shortly after the plan takes place, events take a crazy turn.\n",
      "The 400 Blows (99 minutes) : Moving story of a young boy who, left without attention, delves into a life of petty crime.\n",
      "La Haine (98 minutes) : 24 hours in the lives of three young men in the French suburbs the day after a violent riot.\n",
      "Man Bites Dog (95 minutes) : A film crew follows a ruthless thief and heartless killer as he goes about his daily routine. But complications set in when the film crew lose their objectivity and begin lending a hand.\n",
      "Eddie Murphy: Raw (93 minutes) : Eddie Murphy in a stand-up performance recorded live. For an hour and a half he talks about his favourite subjects: sex and women.\n",
      "Umberto D. (89 minutes) : An elderly man and his dog struggle to survive on his government pension in Rome.\n"
     ]
    }
   ],
   "source": [
    "for stuff in x:\n",
    "    print stuff[0] + \" (\" + stuff[1] + \" minutes\"+\")\" + \" : \"+stuff[2]"
   ]
  },
  {
   "cell_type": "code",
   "execution_count": 5,
   "metadata": {},
   "outputs": [
    {
     "data": {
      "text/plain": [
       "[{'movie_description': 'Moving story of a young boy who, left without attention, delves into a life of petty crime.(99 mins.)',\n",
       "  'movie_id': '1',\n",
       "  'movie_name': 'The 400 Blows'},\n",
       " {'movie_description': '24 hours in the lives of three young men in the French suburbs the day after a violent riot.(98 mins.)',\n",
       "  'movie_id': '2',\n",
       "  'movie_name': 'La Haine'},\n",
       " {'movie_description': 'The aging patriarch of an organized crime dynasty transfers control of his clandestine empire to his reluctant son.(175 mins.)',\n",
       "  'movie_id': '3',\n",
       "  'movie_name': 'The Godfather'},\n",
       " {'movie_description': 'The early life and career of Vito Corleone in 1920s New York City is portrayed, while his son, Michael, expands and tightens his grip on the family crime syndicate.(202 mins.)',\n",
       "  'movie_id': '4',\n",
       "  'movie_name': 'The Godfather: Part II'},\n",
       " {'movie_description': 'A film crew follows a ruthless thief and heartless killer as he goes about his daily routine. But complications set in when the film crew lose their objectivity and begin lending a hand.(95 mins.)',\n",
       "  'movie_id': '5',\n",
       "  'movie_name': 'Man Bites Dog'},\n",
       " {'movie_description': 'An undercover cop and a mole in the police attempt to identify each other while infiltrating an Irish gang in South Boston.(151 mins.)',\n",
       "  'movie_id': '6',\n",
       "  'movie_name': 'The Departed'},\n",
       " {'movie_description': 'An elderly man and his dog struggle to survive on his government pension in Rome.(89 mins.)\"',\n",
       "  'movie_id': '7',\n",
       "  'movie_name': 'Umberto D.'},\n",
       " {'movie_description': 'A psychopathic criminal with a mother complex makes a daring break from prison and leads his old gang in a chemical plant payroll heist. Shortly after the plan takes place, events take a crazy turn.(114 mins.)',\n",
       "  'movie_id': '8',\n",
       "  'movie_name': 'White Heat'},\n",
       " {'movie_description': 'Eddie Murphy in a stand-up performance recorded live. For an hour and a half he talks about his favourite subjects: sex and women.(93 mins.)',\n",
       "  'movie_id': '9',\n",
       "  'movie_name': 'Eddie Murphy: Raw'},\n",
       " {'movie_description': 'A young soldier faces profound disillusionment in the soul-destroying horror of World War I.(136 mins.)',\n",
       "  'movie_id': '10',\n",
       "  'movie_name': 'All Quiet on the Western Front'}]"
      ]
     },
     "execution_count": 5,
     "metadata": {},
     "output_type": "execute_result"
    }
   ],
   "source": [
    "csv_data.collect()"
   ]
  },
  {
   "cell_type": "code",
   "execution_count": null,
   "metadata": {
    "collapsed": true
   },
   "outputs": [],
   "source": []
  }
 ],
 "metadata": {
  "kernelspec": {
   "display_name": "Python 2",
   "language": "python",
   "name": "python2"
  },
  "language_info": {
   "codemirror_mode": {
    "name": "ipython",
    "version": 2
   },
   "file_extension": ".py",
   "mimetype": "text/x-python",
   "name": "python",
   "nbconvert_exporter": "python",
   "pygments_lexer": "ipython2",
   "version": "2.7.14"
  }
 },
 "nbformat": 4,
 "nbformat_minor": 2
}
