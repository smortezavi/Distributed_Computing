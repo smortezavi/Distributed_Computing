{
 "cells": [
  {
   "cell_type": "code",
   "execution_count": null,
   "metadata": {
    "collapsed": false
   },
   "outputs": [],
   "source": [
    "from pyspark import SparkContext\n",
    "sc = SparkContext.getOrCreate()"
   ]
  },
  {
   "cell_type": "code",
   "execution_count": null,
   "metadata": {
    "collapsed": false
   },
   "outputs": [],
   "source": [
    "business = sc.textFile(\"../Data/filtered_registered_business_sf.csv\")\n",
    "business_zip_name_pair = business.map(lambda x : x.split(\",\"))\\\n",
    "                                 .map(lambda x : (x[0],x[1])).distinct()"
   ]
  },
  {
   "cell_type": "code",
   "execution_count": null,
   "metadata": {
    "collapsed": false
   },
   "outputs": [],
   "source": [
    "supervisor = sc.textFile(\"../Data/supervisor_sf.csv\")\n",
    "supervisor_zip_id_pair = supervisor.map(lambda x : x.split(\",\"))\\\n",
    "                                   .map(lambda x : (x[0],x[1])).distinct()"
   ]
  },
  {
   "cell_type": "code",
   "execution_count": null,
   "metadata": {
    "collapsed": false
   },
   "outputs": [],
   "source": [
    "business_join_supervisor = business_zip_name_pair.join(supervisor_zip_id_pair)\n",
    "business_join_supervisor.sortBy(lambda x : x[1][1], ascending = False).take(10) "
   ]
  },
  {
   "cell_type": "code",
   "execution_count": null,
   "metadata": {
    "collapsed": false
   },
   "outputs": [],
   "source": [
    "business_left_join_supervisor = business_zip_name_pair.leftOuterJoin(supervisor_zip_id_pair)"
   ]
  },
  {
   "cell_type": "code",
   "execution_count": null,
   "metadata": {
    "collapsed": false
   },
   "outputs": [],
   "source": [
    "business_right_join_supervisor = business_zip_name_pair.rightOuterJoin(supervisor_zip_id_pair)"
   ]
  },
  {
   "cell_type": "code",
   "execution_count": null,
   "metadata": {
    "collapsed": false
   },
   "outputs": [],
   "source": [
    "business_join_supervisor.subtract(business_right_join_supervisor).count()"
   ]
  },
  {
   "cell_type": "code",
   "execution_count": null,
   "metadata": {
    "collapsed": true
   },
   "outputs": [],
   "source": []
  }
 ],
 "metadata": {
  "kernelspec": {
   "display_name": "Python [Root]",
   "language": "python",
   "name": "Python [Root]"
  },
  "language_info": {
   "codemirror_mode": {
    "name": "ipython",
    "version": 2
   },
   "file_extension": ".py",
   "mimetype": "text/x-python",
   "name": "python",
   "nbconvert_exporter": "python",
   "pygments_lexer": "ipython2",
   "version": "2.7.12"
  }
 },
 "nbformat": 4,
 "nbformat_minor": 2
}
