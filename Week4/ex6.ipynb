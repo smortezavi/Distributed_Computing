{
 "cells": [
  {
   "cell_type": "code",
   "execution_count": 36,
   "metadata": {
    "collapsed": true
   },
   "outputs": [],
   "source": [
    "import time\n",
    "from pyspark import SparkContext\n",
    "from pyspark.storagelevel import StorageLevel \n",
    "sc = SparkContext.getOrCreate()"
   ]
  },
  {
   "cell_type": "code",
   "execution_count": 37,
   "metadata": {
    "collapsed": true
   },
   "outputs": [],
   "source": [
    "#USE A BIG FILE.\n",
    "#file_name = \"../../Data/book.txt\" \n",
    "#file_name = \"/Users/dwoodbridge/Downloads/1GB.zip\""
   ]
  },
  {
   "cell_type": "code",
   "execution_count": 38,
   "metadata": {
    "collapsed": false
   },
   "outputs": [],
   "source": [
    "lines = sc.textFile(file_name)"
   ]
  },
  {
   "cell_type": "code",
   "execution_count": 39,
   "metadata": {
    "collapsed": false
   },
   "outputs": [
    {
     "data": {
      "text/plain": [
       "StorageLevel(False, False, False, False, 1)"
      ]
     },
     "execution_count": 39,
     "metadata": {},
     "output_type": "execute_result"
    }
   ],
   "source": [
    "lines.getStorageLevel()"
   ]
  },
  {
   "cell_type": "code",
   "execution_count": 40,
   "metadata": {
    "collapsed": false
   },
   "outputs": [
    {
     "name": "stdout",
     "output_type": "stream",
     "text": [
      "first  29.7313799858\n",
      "second  29.0625469685\n"
     ]
    }
   ],
   "source": [
    "#without persisting\n",
    "start = time.time()\n",
    "lines.count()\n",
    "print \"first \",\n",
    "print time.time() - start\n",
    "\n",
    "start = time.time()\n",
    "lines.count()\n",
    "print \"second \",\n",
    "print time.time() - start"
   ]
  },
  {
   "cell_type": "code",
   "execution_count": 41,
   "metadata": {
    "collapsed": false
   },
   "outputs": [
    {
     "name": "stdout",
     "output_type": "stream",
     "text": [
      "first  30.3035311699\n",
      "second  26.9744648933\n"
     ]
    }
   ],
   "source": [
    "#with memory\n",
    "lines.cache()\n",
    "start = time.time()\n",
    "lines.count()\n",
    "print \"first \",\n",
    "print time.time() - start #trigger reevaluation\n",
    "\n",
    "start = time.time()\n",
    "lines.count()\n",
    "print \"second \",\n",
    "print time.time() - start #doesn't trigger reevaluation"
   ]
  },
  {
   "cell_type": "code",
   "execution_count": 42,
   "metadata": {
    "collapsed": false
   },
   "outputs": [
    {
     "data": {
      "text/plain": [
       "StorageLevel(False, True, False, False, 1)"
      ]
     },
     "execution_count": 42,
     "metadata": {},
     "output_type": "execute_result"
    }
   ],
   "source": [
    "lines.getStorageLevel()"
   ]
  },
  {
   "cell_type": "code",
   "execution_count": 43,
   "metadata": {
    "collapsed": false
   },
   "outputs": [
    {
     "data": {
      "text/plain": [
       "../../Data/book.txt MapPartitionsRDD[32] at textFile at NativeMethodAccessorImpl.java:0"
      ]
     },
     "execution_count": 43,
     "metadata": {},
     "output_type": "execute_result"
    }
   ],
   "source": [
    "lines.unpersist()"
   ]
  },
  {
   "cell_type": "code",
   "execution_count": 44,
   "metadata": {
    "collapsed": false
   },
   "outputs": [
    {
     "name": "stdout",
     "output_type": "stream",
     "text": [
      "first  29.9532358646\n",
      "second  25.5312709808\n",
      "third  25.6135489941\n",
      "fourth  27.6305940151\n"
     ]
    }
   ],
   "source": [
    "#with memory and disk\n",
    "lines.persist(StorageLevel.MEMORY_AND_DISK)\n",
    "start = time.time()\n",
    "lines.count()\n",
    "print \"first \",\n",
    "print time.time() - start #trigger reevaluation\n",
    "\n",
    "start = time.time()\n",
    "lines.count()\n",
    "print \"second \",\n",
    "print time.time() - start #doesn't trigger reevaluation\n",
    "\n",
    "start = time.time()\n",
    "lines.count()\n",
    "print \"third \",\n",
    "print time.time() - start #doesn't trigger reevaluation\n",
    "\n",
    "start = time.time()\n",
    "lines.count()\n",
    "print \"fourth \",\n",
    "print time.time() - start #doesn't trigger reevaluation"
   ]
  },
  {
   "cell_type": "code",
   "execution_count": 45,
   "metadata": {
    "collapsed": false
   },
   "outputs": [
    {
     "data": {
      "text/plain": [
       "StorageLevel(True, True, False, False, 1)"
      ]
     },
     "execution_count": 45,
     "metadata": {},
     "output_type": "execute_result"
    }
   ],
   "source": [
    "lines.getStorageLevel()"
   ]
  },
  {
   "cell_type": "code",
   "execution_count": 46,
   "metadata": {
    "collapsed": false
   },
   "outputs": [
    {
     "data": {
      "text/plain": [
       "../../Data/book.txt MapPartitionsRDD[32] at textFile at NativeMethodAccessorImpl.java:0"
      ]
     },
     "execution_count": 46,
     "metadata": {},
     "output_type": "execute_result"
    }
   ],
   "source": [
    "lines.unpersist()"
   ]
  },
  {
   "cell_type": "code",
   "execution_count": null,
   "metadata": {
    "collapsed": true
   },
   "outputs": [],
   "source": []
  }
 ],
 "metadata": {
  "kernelspec": {
   "display_name": "Python [Root]",
   "language": "python",
   "name": "Python [Root]"
  },
  "language_info": {
   "codemirror_mode": {
    "name": "ipython",
    "version": 2
   },
   "file_extension": ".py",
   "mimetype": "text/x-python",
   "name": "python",
   "nbconvert_exporter": "python",
   "pygments_lexer": "ipython2",
   "version": "2.7.12"
  }
 },
 "nbformat": 4,
 "nbformat_minor": 2
}
